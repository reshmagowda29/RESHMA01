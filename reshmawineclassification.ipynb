{
  "nbformat": 4,
  "nbformat_minor": 0,
  "metadata": {
    "colab": {
      "name": "reshmawineclassification.ipynb",
      "provenance": [],
      "collapsed_sections": [],
      "toc_visible": true
    },
    "kernelspec": {
      "name": "python3",
      "display_name": "Python 3"
    }
  },
  "cells": [
    {
      "cell_type": "markdown",
      "metadata": {
        "id": "kS6jZvYsi53P",
        "colab_type": "text"
      },
      "source": [
        "#Data Preprocessing"
      ]
    },
    {
      "cell_type": "code",
      "metadata": {
        "id": "zyKFg1yi9Xe-",
        "colab_type": "code",
        "colab": {}
      },
      "source": [
        "import pandas as pd\n",
        "import numpy as np\n"
      ],
      "execution_count": null,
      "outputs": []
    },
    {
      "cell_type": "code",
      "metadata": {
        "id": "lHMVuRzXFXpN",
        "colab_type": "code",
        "colab": {}
      },
      "source": [
        "data = pd.read_csv('/content/datasets_4458_8204_winequality-red (3).csv')"
      ],
      "execution_count": null,
      "outputs": []
    },
    {
      "cell_type": "code",
      "metadata": {
        "id": "YjArkvNWFdQ9",
        "colab_type": "code",
        "colab": {
          "base_uri": "https://localhost:8080/",
          "height": 418
        },
        "outputId": "a0330523-4bc1-4215-f8f1-52a45dda638f"
      },
      "source": [
        "data"
      ],
      "execution_count": null,
      "outputs": [
        {
          "output_type": "execute_result",
          "data": {
            "text/html": [
              "<div>\n",
              "<style scoped>\n",
              "    .dataframe tbody tr th:only-of-type {\n",
              "        vertical-align: middle;\n",
              "    }\n",
              "\n",
              "    .dataframe tbody tr th {\n",
              "        vertical-align: top;\n",
              "    }\n",
              "\n",
              "    .dataframe thead th {\n",
              "        text-align: right;\n",
              "    }\n",
              "</style>\n",
              "<table border=\"1\" class=\"dataframe\">\n",
              "  <thead>\n",
              "    <tr style=\"text-align: right;\">\n",
              "      <th></th>\n",
              "      <th>fixed acidity</th>\n",
              "      <th>volatile acidity</th>\n",
              "      <th>citric acid</th>\n",
              "      <th>residual sugar</th>\n",
              "      <th>chlorides</th>\n",
              "      <th>free sulfur dioxide</th>\n",
              "      <th>total sulfur dioxide</th>\n",
              "      <th>density</th>\n",
              "      <th>pH</th>\n",
              "      <th>sulphates</th>\n",
              "      <th>alcohol</th>\n",
              "      <th>quality</th>\n",
              "    </tr>\n",
              "  </thead>\n",
              "  <tbody>\n",
              "    <tr>\n",
              "      <th>0</th>\n",
              "      <td>7.4</td>\n",
              "      <td>0.700</td>\n",
              "      <td>0.00</td>\n",
              "      <td>1.9</td>\n",
              "      <td>0.076</td>\n",
              "      <td>11.0</td>\n",
              "      <td>34.0</td>\n",
              "      <td>0.99780</td>\n",
              "      <td>3.51</td>\n",
              "      <td>0.56</td>\n",
              "      <td>9.4</td>\n",
              "      <td>5</td>\n",
              "    </tr>\n",
              "    <tr>\n",
              "      <th>1</th>\n",
              "      <td>7.8</td>\n",
              "      <td>0.880</td>\n",
              "      <td>0.00</td>\n",
              "      <td>2.6</td>\n",
              "      <td>0.098</td>\n",
              "      <td>25.0</td>\n",
              "      <td>67.0</td>\n",
              "      <td>0.99680</td>\n",
              "      <td>3.20</td>\n",
              "      <td>0.68</td>\n",
              "      <td>9.8</td>\n",
              "      <td>5</td>\n",
              "    </tr>\n",
              "    <tr>\n",
              "      <th>2</th>\n",
              "      <td>7.8</td>\n",
              "      <td>0.760</td>\n",
              "      <td>0.04</td>\n",
              "      <td>2.3</td>\n",
              "      <td>0.092</td>\n",
              "      <td>15.0</td>\n",
              "      <td>54.0</td>\n",
              "      <td>0.99700</td>\n",
              "      <td>3.26</td>\n",
              "      <td>0.65</td>\n",
              "      <td>9.8</td>\n",
              "      <td>5</td>\n",
              "    </tr>\n",
              "    <tr>\n",
              "      <th>3</th>\n",
              "      <td>11.2</td>\n",
              "      <td>0.280</td>\n",
              "      <td>0.56</td>\n",
              "      <td>1.9</td>\n",
              "      <td>0.075</td>\n",
              "      <td>17.0</td>\n",
              "      <td>60.0</td>\n",
              "      <td>0.99800</td>\n",
              "      <td>3.16</td>\n",
              "      <td>0.58</td>\n",
              "      <td>9.8</td>\n",
              "      <td>6</td>\n",
              "    </tr>\n",
              "    <tr>\n",
              "      <th>4</th>\n",
              "      <td>7.4</td>\n",
              "      <td>0.700</td>\n",
              "      <td>0.00</td>\n",
              "      <td>1.9</td>\n",
              "      <td>0.076</td>\n",
              "      <td>11.0</td>\n",
              "      <td>34.0</td>\n",
              "      <td>0.99780</td>\n",
              "      <td>3.51</td>\n",
              "      <td>0.56</td>\n",
              "      <td>9.4</td>\n",
              "      <td>5</td>\n",
              "    </tr>\n",
              "    <tr>\n",
              "      <th>...</th>\n",
              "      <td>...</td>\n",
              "      <td>...</td>\n",
              "      <td>...</td>\n",
              "      <td>...</td>\n",
              "      <td>...</td>\n",
              "      <td>...</td>\n",
              "      <td>...</td>\n",
              "      <td>...</td>\n",
              "      <td>...</td>\n",
              "      <td>...</td>\n",
              "      <td>...</td>\n",
              "      <td>...</td>\n",
              "    </tr>\n",
              "    <tr>\n",
              "      <th>1594</th>\n",
              "      <td>6.2</td>\n",
              "      <td>0.600</td>\n",
              "      <td>0.08</td>\n",
              "      <td>2.0</td>\n",
              "      <td>0.090</td>\n",
              "      <td>32.0</td>\n",
              "      <td>44.0</td>\n",
              "      <td>0.99490</td>\n",
              "      <td>3.45</td>\n",
              "      <td>0.58</td>\n",
              "      <td>10.5</td>\n",
              "      <td>5</td>\n",
              "    </tr>\n",
              "    <tr>\n",
              "      <th>1595</th>\n",
              "      <td>5.9</td>\n",
              "      <td>0.550</td>\n",
              "      <td>0.10</td>\n",
              "      <td>2.2</td>\n",
              "      <td>0.062</td>\n",
              "      <td>39.0</td>\n",
              "      <td>51.0</td>\n",
              "      <td>0.99512</td>\n",
              "      <td>3.52</td>\n",
              "      <td>0.76</td>\n",
              "      <td>11.2</td>\n",
              "      <td>6</td>\n",
              "    </tr>\n",
              "    <tr>\n",
              "      <th>1596</th>\n",
              "      <td>6.3</td>\n",
              "      <td>0.510</td>\n",
              "      <td>0.13</td>\n",
              "      <td>2.3</td>\n",
              "      <td>0.076</td>\n",
              "      <td>29.0</td>\n",
              "      <td>40.0</td>\n",
              "      <td>0.99574</td>\n",
              "      <td>3.42</td>\n",
              "      <td>0.75</td>\n",
              "      <td>11.0</td>\n",
              "      <td>6</td>\n",
              "    </tr>\n",
              "    <tr>\n",
              "      <th>1597</th>\n",
              "      <td>5.9</td>\n",
              "      <td>0.645</td>\n",
              "      <td>0.12</td>\n",
              "      <td>2.0</td>\n",
              "      <td>0.075</td>\n",
              "      <td>32.0</td>\n",
              "      <td>44.0</td>\n",
              "      <td>0.99547</td>\n",
              "      <td>3.57</td>\n",
              "      <td>0.71</td>\n",
              "      <td>10.2</td>\n",
              "      <td>5</td>\n",
              "    </tr>\n",
              "    <tr>\n",
              "      <th>1598</th>\n",
              "      <td>6.0</td>\n",
              "      <td>0.310</td>\n",
              "      <td>0.47</td>\n",
              "      <td>3.6</td>\n",
              "      <td>0.067</td>\n",
              "      <td>18.0</td>\n",
              "      <td>42.0</td>\n",
              "      <td>0.99549</td>\n",
              "      <td>3.39</td>\n",
              "      <td>0.66</td>\n",
              "      <td>11.0</td>\n",
              "      <td>6</td>\n",
              "    </tr>\n",
              "  </tbody>\n",
              "</table>\n",
              "<p>1599 rows × 12 columns</p>\n",
              "</div>"
            ],
            "text/plain": [
              "      fixed acidity  volatile acidity  citric acid  ...  sulphates  alcohol  quality\n",
              "0               7.4             0.700         0.00  ...       0.56      9.4        5\n",
              "1               7.8             0.880         0.00  ...       0.68      9.8        5\n",
              "2               7.8             0.760         0.04  ...       0.65      9.8        5\n",
              "3              11.2             0.280         0.56  ...       0.58      9.8        6\n",
              "4               7.4             0.700         0.00  ...       0.56      9.4        5\n",
              "...             ...               ...          ...  ...        ...      ...      ...\n",
              "1594            6.2             0.600         0.08  ...       0.58     10.5        5\n",
              "1595            5.9             0.550         0.10  ...       0.76     11.2        6\n",
              "1596            6.3             0.510         0.13  ...       0.75     11.0        6\n",
              "1597            5.9             0.645         0.12  ...       0.71     10.2        5\n",
              "1598            6.0             0.310         0.47  ...       0.66     11.0        6\n",
              "\n",
              "[1599 rows x 12 columns]"
            ]
          },
          "metadata": {
            "tags": []
          },
          "execution_count": 3
        }
      ]
    },
    {
      "cell_type": "code",
      "metadata": {
        "id": "ou9kjUheIoJK",
        "colab_type": "code",
        "colab": {
          "base_uri": "https://localhost:8080/",
          "height": 34
        },
        "outputId": "acd5af54-a685-4633-e559-ae396ac71a48"
      },
      "source": [
        "data['quality'].unique()"
      ],
      "execution_count": null,
      "outputs": [
        {
          "output_type": "execute_result",
          "data": {
            "text/plain": [
              "array([5, 6, 7, 4, 8, 3])"
            ]
          },
          "metadata": {
            "tags": []
          },
          "execution_count": 4
        }
      ]
    },
    {
      "cell_type": "markdown",
      "metadata": {
        "id": "EgNxi95ijMy3",
        "colab_type": "text"
      },
      "source": [
        "#Separate Features and Target\n",
        "\n",
        "* Here lets considering 'quality' as target\n",
        "*  and rest of the columns as features"
      ]
    },
    {
      "cell_type": "code",
      "metadata": {
        "id": "7AQ9V-OpItXp",
        "colab_type": "code",
        "colab": {}
      },
      "source": [
        "x = data.iloc[:,:-1].values\n",
        "y = data.iloc[:, -1].values"
      ],
      "execution_count": null,
      "outputs": []
    },
    {
      "cell_type": "code",
      "metadata": {
        "id": "5Txnh7pC0A3A",
        "colab_type": "code",
        "colab": {
          "base_uri": "https://localhost:8080/",
          "height": 134
        },
        "outputId": "cd3cb814-6443-41a1-d381-c412049d1c66"
      },
      "source": [
        "x"
      ],
      "execution_count": null,
      "outputs": [
        {
          "output_type": "execute_result",
          "data": {
            "text/plain": [
              "array([[ 7.4  ,  0.7  ,  0.   , ...,  3.51 ,  0.56 ,  9.4  ],\n",
              "       [ 7.8  ,  0.88 ,  0.   , ...,  3.2  ,  0.68 ,  9.8  ],\n",
              "       [ 7.8  ,  0.76 ,  0.04 , ...,  3.26 ,  0.65 ,  9.8  ],\n",
              "       ...,\n",
              "       [ 6.3  ,  0.51 ,  0.13 , ...,  3.42 ,  0.75 , 11.   ],\n",
              "       [ 5.9  ,  0.645,  0.12 , ...,  3.57 ,  0.71 , 10.2  ],\n",
              "       [ 6.   ,  0.31 ,  0.47 , ...,  3.39 ,  0.66 , 11.   ]])"
            ]
          },
          "metadata": {
            "tags": []
          },
          "execution_count": 6
        }
      ]
    },
    {
      "cell_type": "code",
      "metadata": {
        "id": "AHvBJhU00G6C",
        "colab_type": "code",
        "colab": {
          "base_uri": "https://localhost:8080/",
          "height": 34
        },
        "outputId": "13fe6258-2349-4425-e6e6-a23ff049fc74"
      },
      "source": [
        "y"
      ],
      "execution_count": null,
      "outputs": [
        {
          "output_type": "execute_result",
          "data": {
            "text/plain": [
              "array([5, 5, 5, ..., 6, 5, 6])"
            ]
          },
          "metadata": {
            "tags": []
          },
          "execution_count": 7
        }
      ]
    },
    {
      "cell_type": "code",
      "metadata": {
        "id": "p5bqvBH45wum",
        "colab_type": "code",
        "colab": {}
      },
      "source": [
        "from sklearn.model_selection import train_test_split"
      ],
      "execution_count": null,
      "outputs": []
    },
    {
      "cell_type": "code",
      "metadata": {
        "id": "NPr4dGN-5_wj",
        "colab_type": "code",
        "colab": {}
      },
      "source": [
        "x_train, x_test, y_train, y_test = train_test_split(x, y, test_size=0.2)"
      ],
      "execution_count": null,
      "outputs": []
    },
    {
      "cell_type": "code",
      "metadata": {
        "id": "4vXalqle1mk6",
        "colab_type": "code",
        "colab": {
          "base_uri": "https://localhost:8080/",
          "height": 34
        },
        "outputId": "362c919d-ae99-4f4a-cc1c-850088bd58b9"
      },
      "source": [
        "y_train"
      ],
      "execution_count": null,
      "outputs": [
        {
          "output_type": "execute_result",
          "data": {
            "text/plain": [
              "array([7, 5, 6, ..., 6, 6, 5])"
            ]
          },
          "metadata": {
            "tags": []
          },
          "execution_count": 10
        }
      ]
    },
    {
      "cell_type": "code",
      "metadata": {
        "id": "LU_bMfFc14-t",
        "colab_type": "code",
        "colab": {
          "base_uri": "https://localhost:8080/",
          "height": 269
        },
        "outputId": "3fa89a53-12ce-459e-b59a-2be96d5e0588"
      },
      "source": [
        "y_test"
      ],
      "execution_count": null,
      "outputs": [
        {
          "output_type": "execute_result",
          "data": {
            "text/plain": [
              "array([6, 6, 5, 4, 6, 5, 6, 7, 6, 6, 5, 5, 6, 5, 7, 5, 6, 6, 6, 5, 4, 6,\n",
              "       5, 6, 6, 6, 5, 6, 6, 5, 6, 6, 7, 8, 6, 4, 6, 6, 5, 6, 5, 5, 7, 5,\n",
              "       5, 5, 7, 7, 6, 7, 5, 4, 5, 8, 5, 5, 6, 5, 5, 4, 6, 5, 5, 7, 6, 6,\n",
              "       6, 8, 5, 5, 5, 6, 7, 6, 5, 5, 5, 6, 6, 6, 5, 7, 6, 5, 7, 5, 7, 5,\n",
              "       7, 6, 6, 6, 5, 6, 5, 5, 6, 5, 5, 5, 6, 5, 6, 6, 4, 6, 6, 5, 6, 5,\n",
              "       6, 6, 5, 6, 7, 6, 6, 5, 7, 5, 6, 6, 5, 6, 5, 5, 6, 5, 5, 6, 4, 5,\n",
              "       5, 5, 5, 7, 5, 5, 5, 5, 6, 6, 6, 5, 6, 6, 6, 7, 6, 7, 5, 6, 6, 6,\n",
              "       6, 5, 6, 6, 6, 5, 6, 6, 5, 6, 6, 8, 5, 7, 7, 5, 6, 5, 6, 6, 5, 7,\n",
              "       5, 5, 7, 5, 6, 7, 5, 6, 5, 5, 6, 6, 7, 5, 6, 5, 5, 6, 5, 6, 5, 5,\n",
              "       5, 5, 6, 5, 6, 6, 7, 6, 5, 6, 6, 6, 7, 7, 5, 5, 5, 6, 4, 5, 4, 5,\n",
              "       6, 7, 7, 5, 5, 5, 6, 6, 7, 6, 6, 5, 5, 6, 5, 5, 5, 5, 6, 6, 6, 7,\n",
              "       5, 7, 5, 5, 5, 7, 5, 6, 5, 5, 5, 5, 6, 6, 6, 5, 6, 6, 5, 5, 5, 5,\n",
              "       6, 5, 5, 6, 6, 6, 6, 5, 6, 6, 6, 7, 6, 6, 6, 5, 6, 6, 5, 5, 5, 5,\n",
              "       6, 6, 6, 6, 6, 6, 5, 6, 5, 6, 6, 6, 6, 6, 7, 6, 5, 7, 6, 6, 6, 6,\n",
              "       7, 6, 5, 6, 5, 6, 6, 7, 6, 5, 5, 5])"
            ]
          },
          "metadata": {
            "tags": []
          },
          "execution_count": 11
        }
      ]
    },
    {
      "cell_type": "code",
      "metadata": {
        "id": "_pxVbV5x2Ffh",
        "colab_type": "code",
        "colab": {
          "base_uri": "https://localhost:8080/",
          "height": 134
        },
        "outputId": "95a6427f-f72c-416a-de86-00d202f291de"
      },
      "source": [
        "x_train"
      ],
      "execution_count": null,
      "outputs": [
        {
          "output_type": "execute_result",
          "data": {
            "text/plain": [
              "array([[ 9.2 ,  0.31,  0.36, ...,  3.33,  0.86, 12.  ],\n",
              "       [ 7.8 ,  0.56,  0.19, ...,  3.33,  0.54,  9.5 ],\n",
              "       [ 8.8 ,  0.48,  0.41, ...,  3.31,  0.53, 10.5 ],\n",
              "       ...,\n",
              "       [ 8.6 ,  0.53,  0.22, ...,  3.2 ,  0.56, 10.2 ],\n",
              "       [ 7.7 ,  0.43,  0.25, ...,  3.37,  0.58, 10.5 ],\n",
              "       [ 6.8 ,  0.66,  0.07, ...,  3.29,  0.6 ,  9.3 ]])"
            ]
          },
          "metadata": {
            "tags": []
          },
          "execution_count": 12
        }
      ]
    },
    {
      "cell_type": "code",
      "metadata": {
        "id": "3f6bm1bf6Iz_",
        "colab_type": "code",
        "colab": {}
      },
      "source": [
        "from sklearn.preprocessing import StandardScaler"
      ],
      "execution_count": null,
      "outputs": []
    },
    {
      "cell_type": "code",
      "metadata": {
        "id": "0iv7wDcH8BmP",
        "colab_type": "code",
        "colab": {}
      },
      "source": [
        "ntrain = y_train.reshape(len(y_train), 1)\n",
        "ntest = y_test.reshape(len(y_test), 1)"
      ],
      "execution_count": null,
      "outputs": []
    },
    {
      "cell_type": "code",
      "metadata": {
        "id": "pf2moM0X2rGh",
        "colab_type": "code",
        "colab": {
          "base_uri": "https://localhost:8080/",
          "height": 134
        },
        "outputId": "c07ab18d-735e-4cef-b07f-d7f43e04341b"
      },
      "source": [
        "ntrain"
      ],
      "execution_count": null,
      "outputs": [
        {
          "output_type": "execute_result",
          "data": {
            "text/plain": [
              "array([[7],\n",
              "       [5],\n",
              "       [6],\n",
              "       ...,\n",
              "       [6],\n",
              "       [6],\n",
              "       [5]])"
            ]
          },
          "metadata": {
            "tags": []
          },
          "execution_count": 15
        }
      ]
    },
    {
      "cell_type": "code",
      "metadata": {
        "id": "Tk04uXhB21ol",
        "colab_type": "code",
        "colab": {
          "base_uri": "https://localhost:8080/",
          "height": 1000
        },
        "outputId": "a06a2c1d-ac7b-46a6-dad8-639f41052033"
      },
      "source": [
        "\n",
        "ntest"
      ],
      "execution_count": null,
      "outputs": [
        {
          "output_type": "execute_result",
          "data": {
            "text/plain": [
              "array([[6],\n",
              "       [6],\n",
              "       [5],\n",
              "       [4],\n",
              "       [6],\n",
              "       [5],\n",
              "       [6],\n",
              "       [7],\n",
              "       [6],\n",
              "       [6],\n",
              "       [5],\n",
              "       [5],\n",
              "       [6],\n",
              "       [5],\n",
              "       [7],\n",
              "       [5],\n",
              "       [6],\n",
              "       [6],\n",
              "       [6],\n",
              "       [5],\n",
              "       [4],\n",
              "       [6],\n",
              "       [5],\n",
              "       [6],\n",
              "       [6],\n",
              "       [6],\n",
              "       [5],\n",
              "       [6],\n",
              "       [6],\n",
              "       [5],\n",
              "       [6],\n",
              "       [6],\n",
              "       [7],\n",
              "       [8],\n",
              "       [6],\n",
              "       [4],\n",
              "       [6],\n",
              "       [6],\n",
              "       [5],\n",
              "       [6],\n",
              "       [5],\n",
              "       [5],\n",
              "       [7],\n",
              "       [5],\n",
              "       [5],\n",
              "       [5],\n",
              "       [7],\n",
              "       [7],\n",
              "       [6],\n",
              "       [7],\n",
              "       [5],\n",
              "       [4],\n",
              "       [5],\n",
              "       [8],\n",
              "       [5],\n",
              "       [5],\n",
              "       [6],\n",
              "       [5],\n",
              "       [5],\n",
              "       [4],\n",
              "       [6],\n",
              "       [5],\n",
              "       [5],\n",
              "       [7],\n",
              "       [6],\n",
              "       [6],\n",
              "       [6],\n",
              "       [8],\n",
              "       [5],\n",
              "       [5],\n",
              "       [5],\n",
              "       [6],\n",
              "       [7],\n",
              "       [6],\n",
              "       [5],\n",
              "       [5],\n",
              "       [5],\n",
              "       [6],\n",
              "       [6],\n",
              "       [6],\n",
              "       [5],\n",
              "       [7],\n",
              "       [6],\n",
              "       [5],\n",
              "       [7],\n",
              "       [5],\n",
              "       [7],\n",
              "       [5],\n",
              "       [7],\n",
              "       [6],\n",
              "       [6],\n",
              "       [6],\n",
              "       [5],\n",
              "       [6],\n",
              "       [5],\n",
              "       [5],\n",
              "       [6],\n",
              "       [5],\n",
              "       [5],\n",
              "       [5],\n",
              "       [6],\n",
              "       [5],\n",
              "       [6],\n",
              "       [6],\n",
              "       [4],\n",
              "       [6],\n",
              "       [6],\n",
              "       [5],\n",
              "       [6],\n",
              "       [5],\n",
              "       [6],\n",
              "       [6],\n",
              "       [5],\n",
              "       [6],\n",
              "       [7],\n",
              "       [6],\n",
              "       [6],\n",
              "       [5],\n",
              "       [7],\n",
              "       [5],\n",
              "       [6],\n",
              "       [6],\n",
              "       [5],\n",
              "       [6],\n",
              "       [5],\n",
              "       [5],\n",
              "       [6],\n",
              "       [5],\n",
              "       [5],\n",
              "       [6],\n",
              "       [4],\n",
              "       [5],\n",
              "       [5],\n",
              "       [5],\n",
              "       [5],\n",
              "       [7],\n",
              "       [5],\n",
              "       [5],\n",
              "       [5],\n",
              "       [5],\n",
              "       [6],\n",
              "       [6],\n",
              "       [6],\n",
              "       [5],\n",
              "       [6],\n",
              "       [6],\n",
              "       [6],\n",
              "       [7],\n",
              "       [6],\n",
              "       [7],\n",
              "       [5],\n",
              "       [6],\n",
              "       [6],\n",
              "       [6],\n",
              "       [6],\n",
              "       [5],\n",
              "       [6],\n",
              "       [6],\n",
              "       [6],\n",
              "       [5],\n",
              "       [6],\n",
              "       [6],\n",
              "       [5],\n",
              "       [6],\n",
              "       [6],\n",
              "       [8],\n",
              "       [5],\n",
              "       [7],\n",
              "       [7],\n",
              "       [5],\n",
              "       [6],\n",
              "       [5],\n",
              "       [6],\n",
              "       [6],\n",
              "       [5],\n",
              "       [7],\n",
              "       [5],\n",
              "       [5],\n",
              "       [7],\n",
              "       [5],\n",
              "       [6],\n",
              "       [7],\n",
              "       [5],\n",
              "       [6],\n",
              "       [5],\n",
              "       [5],\n",
              "       [6],\n",
              "       [6],\n",
              "       [7],\n",
              "       [5],\n",
              "       [6],\n",
              "       [5],\n",
              "       [5],\n",
              "       [6],\n",
              "       [5],\n",
              "       [6],\n",
              "       [5],\n",
              "       [5],\n",
              "       [5],\n",
              "       [5],\n",
              "       [6],\n",
              "       [5],\n",
              "       [6],\n",
              "       [6],\n",
              "       [7],\n",
              "       [6],\n",
              "       [5],\n",
              "       [6],\n",
              "       [6],\n",
              "       [6],\n",
              "       [7],\n",
              "       [7],\n",
              "       [5],\n",
              "       [5],\n",
              "       [5],\n",
              "       [6],\n",
              "       [4],\n",
              "       [5],\n",
              "       [4],\n",
              "       [5],\n",
              "       [6],\n",
              "       [7],\n",
              "       [7],\n",
              "       [5],\n",
              "       [5],\n",
              "       [5],\n",
              "       [6],\n",
              "       [6],\n",
              "       [7],\n",
              "       [6],\n",
              "       [6],\n",
              "       [5],\n",
              "       [5],\n",
              "       [6],\n",
              "       [5],\n",
              "       [5],\n",
              "       [5],\n",
              "       [5],\n",
              "       [6],\n",
              "       [6],\n",
              "       [6],\n",
              "       [7],\n",
              "       [5],\n",
              "       [7],\n",
              "       [5],\n",
              "       [5],\n",
              "       [5],\n",
              "       [7],\n",
              "       [5],\n",
              "       [6],\n",
              "       [5],\n",
              "       [5],\n",
              "       [5],\n",
              "       [5],\n",
              "       [6],\n",
              "       [6],\n",
              "       [6],\n",
              "       [5],\n",
              "       [6],\n",
              "       [6],\n",
              "       [5],\n",
              "       [5],\n",
              "       [5],\n",
              "       [5],\n",
              "       [6],\n",
              "       [5],\n",
              "       [5],\n",
              "       [6],\n",
              "       [6],\n",
              "       [6],\n",
              "       [6],\n",
              "       [5],\n",
              "       [6],\n",
              "       [6],\n",
              "       [6],\n",
              "       [7],\n",
              "       [6],\n",
              "       [6],\n",
              "       [6],\n",
              "       [5],\n",
              "       [6],\n",
              "       [6],\n",
              "       [5],\n",
              "       [5],\n",
              "       [5],\n",
              "       [5],\n",
              "       [6],\n",
              "       [6],\n",
              "       [6],\n",
              "       [6],\n",
              "       [6],\n",
              "       [6],\n",
              "       [5],\n",
              "       [6],\n",
              "       [5],\n",
              "       [6],\n",
              "       [6],\n",
              "       [6],\n",
              "       [6],\n",
              "       [6],\n",
              "       [7],\n",
              "       [6],\n",
              "       [5],\n",
              "       [7],\n",
              "       [6],\n",
              "       [6],\n",
              "       [6],\n",
              "       [6],\n",
              "       [7],\n",
              "       [6],\n",
              "       [5],\n",
              "       [6],\n",
              "       [5],\n",
              "       [6],\n",
              "       [6],\n",
              "       [7],\n",
              "       [6],\n",
              "       [5],\n",
              "       [5],\n",
              "       [5]])"
            ]
          },
          "metadata": {
            "tags": []
          },
          "execution_count": 16
        }
      ]
    },
    {
      "cell_type": "code",
      "metadata": {
        "id": "JiGIPSBT6NQY",
        "colab_type": "code",
        "colab": {}
      },
      "source": [
        "x_sc = StandardScaler()\n",
        "y_sc = StandardScaler()"
      ],
      "execution_count": null,
      "outputs": []
    },
    {
      "cell_type": "code",
      "metadata": {
        "id": "e8BVHW-O6i03",
        "colab_type": "code",
        "colab": {}
      },
      "source": [
        "xn_train = x_sc.fit_transform(x_train)\n",
        "yn_train = y_sc.fit_transform(ntrain)"
      ],
      "execution_count": null,
      "outputs": []
    },
    {
      "cell_type": "code",
      "metadata": {
        "id": "QQNcU7t6-6Rf",
        "colab_type": "code",
        "colab": {}
      },
      "source": [
        "xn_test = x_sc.transform(x_test)\n",
        "yn_test = y_sc.transform(ntest)"
      ],
      "execution_count": null,
      "outputs": []
    },
    {
      "cell_type": "code",
      "metadata": {
        "id": "Z53e7r5h-fr2",
        "colab_type": "code",
        "colab": {
          "base_uri": "https://localhost:8080/",
          "height": 235
        },
        "outputId": "40dc626c-b707-4f1f-a6d8-f5272e42570f"
      },
      "source": [
        "xn_train"
      ],
      "execution_count": null,
      "outputs": [
        {
          "output_type": "execute_result",
          "data": {
            "text/plain": [
              "array([[ 0.5057257 , -1.22637962,  0.46455418, ...,  0.12579779,\n",
              "         1.25420611,  1.48053894],\n",
              "       [-0.2931032 ,  0.17290272, -0.40763315, ...,  0.12579779,\n",
              "        -0.69462258, -0.85967722],\n",
              "       [ 0.27748887, -0.27486763,  0.72107986, ..., -0.00390424,\n",
              "        -0.75552347,  0.07640925],\n",
              "       ...,\n",
              "       [ 0.16337046,  0.00498884, -0.25371774, ..., -0.71726545,\n",
              "        -0.57282078, -0.20441669],\n",
              "       [-0.35016241, -0.5547241 , -0.09980233, ...,  0.38520187,\n",
              "        -0.45101899,  0.07640925],\n",
              "       [-0.86369527,  0.73261566, -1.0232948 , ..., -0.13360628,\n",
              "        -0.3292172 , -1.04689451]])"
            ]
          },
          "metadata": {
            "tags": []
          },
          "execution_count": 20
        }
      ]
    },
    {
      "cell_type": "code",
      "metadata": {
        "id": "8Swwt5S6-jO6",
        "colab_type": "code",
        "colab": {
          "base_uri": "https://localhost:8080/",
          "height": 235
        },
        "outputId": "82bcf829-2d40-4d48-edc3-069d779f85bb"
      },
      "source": [
        "xn_test"
      ],
      "execution_count": null,
      "outputs": [
        {
          "output_type": "execute_result",
          "data": {
            "text/plain": [
              "array([[ 1.19043619, -0.5547241 ,  1.1828261 , ..., -1.36577565,\n",
              "         1.315107  ,  0.91888706],\n",
              "       [ 0.56278491, -0.77860927,  0.66977473, ...,  0.19064881,\n",
              "         0.58429625, -0.20441669],\n",
              "       [-0.57839923,  0.3408166 , -0.04849719, ..., -0.1984573 ,\n",
              "        -0.81642437, -0.48524263],\n",
              "       ...,\n",
              "       [ 1.41867301, -0.44278151,  0.31063877, ..., -0.45786138,\n",
              "         0.34069266,  0.35723519],\n",
              "       [ 0.33454808,  0.45275919,  1.13152096, ..., -1.23607361,\n",
              "         2.22862045, -1.04689451],\n",
              "       [-1.32016893, -0.16292504, -1.38243076, ...,  0.32035085,\n",
              "        -1.24273065, -0.85967722]])"
            ]
          },
          "metadata": {
            "tags": []
          },
          "execution_count": 21
        }
      ]
    },
    {
      "cell_type": "code",
      "metadata": {
        "id": "84nLB-zs8xg6",
        "colab_type": "code",
        "colab": {
          "base_uri": "https://localhost:8080/",
          "height": 134
        },
        "outputId": "27303368-941f-420a-9437-a3ab8ebed6d4"
      },
      "source": [
        "yn_train"
      ],
      "execution_count": null,
      "outputs": [
        {
          "output_type": "execute_result",
          "data": {
            "text/plain": [
              "array([[ 1.68463147],\n",
              "       [-0.76243684],\n",
              "       [ 0.46109731],\n",
              "       ...,\n",
              "       [ 0.46109731],\n",
              "       [ 0.46109731],\n",
              "       [-0.76243684]])"
            ]
          },
          "metadata": {
            "tags": []
          },
          "execution_count": 22
        }
      ]
    },
    {
      "cell_type": "code",
      "metadata": {
        "id": "k3ppA3BY91l8",
        "colab_type": "code",
        "colab": {}
      },
      "source": [
        "from sklearn.ensemble import RandomForestRegressor\n",
        "from sklearn.linear_model import LinearRegression\n",
        "from sklearn.tree import DecisionTreeRegressor\n",
        "from sklearn.svm import SVR\n",
        "from sklearn.preprocessing import PolynomialFeatures"
      ],
      "execution_count": null,
      "outputs": []
    },
    {
      "cell_type": "code",
      "metadata": {
        "id": "3MlRAgGk-LqC",
        "colab_type": "code",
        "colab": {}
      },
      "source": [
        "r_reg = RandomForestRegressor()\n",
        "l_reg = LinearRegression()\n",
        "d_reg = DecisionTreeRegressor()\n",
        "s_reg = SVR()\n",
        "p_reg = LinearRegression()"
      ],
      "execution_count": null,
      "outputs": []
    },
    {
      "cell_type": "code",
      "metadata": {
        "id": "EIW6RmYjQEJr",
        "colab_type": "code",
        "colab": {}
      },
      "source": [
        "x_pol = PolynomialFeatures(degree=1)\n",
        "x_pol = x_pol.fit_transform(xn_train)"
      ],
      "execution_count": null,
      "outputs": []
    },
    {
      "cell_type": "code",
      "metadata": {
        "id": "jvfL_3nJZSP8",
        "colab_type": "code",
        "colab": {}
      },
      "source": [
        "temp = PolynomialFeatures(degree=1)\n",
        "temp = temp.fit_transform(xn_test)"
      ],
      "execution_count": null,
      "outputs": []
    },
    {
      "cell_type": "code",
      "metadata": {
        "id": "O_Pd-bAw-X8H",
        "colab_type": "code",
        "colab": {
          "base_uri": "https://localhost:8080/",
          "height": 121
        },
        "outputId": "9de44cf2-ac37-4b9a-eaff-a862bb08aeba"
      },
      "source": [
        "r_reg.fit(xn_train, yn_train)\n",
        "l_reg.fit(xn_train, yn_train)\n",
        "d_reg.fit(xn_train, yn_train)\n",
        "s_reg.fit(xn_train, yn_train)\n",
        "p_reg.fit(x_pol, yn_train)"
      ],
      "execution_count": null,
      "outputs": [
        {
          "output_type": "stream",
          "text": [
            "/usr/local/lib/python3.6/dist-packages/ipykernel_launcher.py:1: DataConversionWarning: A column-vector y was passed when a 1d array was expected. Please change the shape of y to (n_samples,), for example using ravel().\n",
            "  \"\"\"Entry point for launching an IPython kernel.\n",
            "/usr/local/lib/python3.6/dist-packages/sklearn/utils/validation.py:760: DataConversionWarning: A column-vector y was passed when a 1d array was expected. Please change the shape of y to (n_samples, ), for example using ravel().\n",
            "  y = column_or_1d(y, warn=True)\n"
          ],
          "name": "stderr"
        },
        {
          "output_type": "execute_result",
          "data": {
            "text/plain": [
              "LinearRegression(copy_X=True, fit_intercept=True, n_jobs=None, normalize=False)"
            ]
          },
          "metadata": {
            "tags": []
          },
          "execution_count": 27
        }
      ]
    },
    {
      "cell_type": "code",
      "metadata": {
        "id": "U3TNUx6s-gJg",
        "colab_type": "code",
        "colab": {}
      },
      "source": [
        "r_pred = r_reg.predict(xn_test)\n",
        "l_pred = l_reg.predict(xn_test)\n",
        "d_pred = d_reg.predict(xn_test)\n",
        "s_pred = s_reg.predict(xn_test)\n",
        "p_pred = p_reg.predict(temp)"
      ],
      "execution_count": null,
      "outputs": []
    },
    {
      "cell_type": "code",
      "metadata": {
        "id": "8LEhn407_U6L",
        "colab_type": "code",
        "colab": {}
      },
      "source": [
        "\n",
        "from sklearn.metrics import r2_score"
      ],
      "execution_count": null,
      "outputs": []
    },
    {
      "cell_type": "code",
      "metadata": {
        "id": "1sZwzfREG3D0",
        "colab_type": "code",
        "colab": {}
      },
      "source": [
        "r = r2_score(yn_test, r_pred)\n",
        "l = r2_score(yn_test, l_pred)\n",
        "d = r2_score(yn_test, d_pred)\n",
        "s = r2_score(yn_test, s_pred)\n",
        "p = r2_score(yn_test, p_pred)"
      ],
      "execution_count": null,
      "outputs": []
    },
    {
      "cell_type": "code",
      "metadata": {
        "id": "pO6BqtCtHHbD",
        "colab_type": "code",
        "colab": {
          "base_uri": "https://localhost:8080/",
          "height": 34
        },
        "outputId": "cf4d03ac-0160-42d4-bb6c-a0d0fc392ad9"
      },
      "source": [
        "print(r, l, d, s, p)"
      ],
      "execution_count": null,
      "outputs": [
        {
          "output_type": "stream",
          "text": [
            "0.47946345381526123 0.32471627739241005 -0.028112449799196693 0.431755804624276 0.32471627739241027\n"
          ],
          "name": "stdout"
        }
      ]
    }
  ]
}